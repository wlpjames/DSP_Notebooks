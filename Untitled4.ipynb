{
 "cells": [
  {
   "cell_type": "code",
   "execution_count": 3,
   "metadata": {},
   "outputs": [],
   "source": [
    "#include <Python/Python.h>"
   ]
  },
  {
   "cell_type": "code",
   "execution_count": 5,
   "metadata": {},
   "outputs": [
    {
     "name": "stderr",
     "output_type": "stream",
     "text": [
      "IncrementalExecutor::executeFunction: symbol 'Py_Initialize' unresolved while linking [cling interface function]!\n",
      "IncrementalExecutor::executeFunction: symbol 'PyRun_SimpleStringFlags' unresolved while linking [cling interface function]!\n",
      "IncrementalExecutor::executeFunction: symbol 'Py_Finalize' unresolved while linking [cling interface function]!\n"
     ]
    }
   ],
   "source": [
    "\n",
    "  Py_Initialize();\n",
    "  PyRun_SimpleString(\"from time import time,ctime\\n\"\n",
    "                     \"print 'Today is',ctime(time())\\n\");\n",
    "  Py_Finalize();"
   ]
  },
  {
   "cell_type": "code",
   "execution_count": null,
   "metadata": {},
   "outputs": [],
   "source": []
  }
 ],
 "metadata": {
  "kernelspec": {
   "display_name": "C++17",
   "language": "C++17",
   "name": "xcpp17"
  },
  "language_info": {
   "codemirror_mode": "text/x-c++src",
   "file_extension": ".cpp",
   "mimetype": "text/x-c++src",
   "name": "c++",
   "version": "-std=c++17"
  }
 },
 "nbformat": 4,
 "nbformat_minor": 2
}
