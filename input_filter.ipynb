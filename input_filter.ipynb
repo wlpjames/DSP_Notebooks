{
 "cells": [
  {
   "cell_type": "markdown",
   "metadata": {},
   "source": [
    "The aim of this noteboook is to scetch an object that can be fed the results of my image proccessing algorythm and output an upsampled and filterd strem of frequencies as an interpretaion of the glitchy ml hand recognition model of my theramin."
   ]
  },
  {
   "cell_type": "markdown",
   "metadata": {},
   "source": [
    "upsampling: from ~15 - 20 fps input\n",
    "            \n",
    "            to either ~100 fps (e.g per frame)\n",
    "                \n",
    "                or ~ 48000hz (e.g per sample)"
   ]
  },
  {
   "cell_type": "markdown",
   "metadata": {},
   "source": [
    "filtering: from a twitch machine-learning-hand-reading output\n",
    "            \n",
    "            to a smooth glide - idealy not delayed by more than a frame (~100HZ)"
   ]
  },
  {
   "cell_type": "markdown",
   "metadata": {},
   "source": [
    "SWIFT -> (TAKES VALUE FROM A MIN AND MAX VALUE AND SENDS A DESIRED FREQUENCY TO THE WAVE TABLE)\n",
    "\n",
    "                                            ||\n",
    "                                            vv\n",
    "\n",
    "C++   --> (WAVETABLE STORES VALUES FOR THE ACTUAL (CURRENT) PITCH AND FOR THE REQUESTED PITCH)\n",
    "\n",
    "                                            ||\n",
    "                                            vv\n",
    "                                            \n",
    "C++   --> (PITCH OBJECT GIVES NEW ACTUAL FREQUENCY ONCE GIVEN ACTUAL AND DERIRED)\n"
   ]
  },
  {
   "cell_type": "markdown",
   "metadata": {},
   "source": [
    "# PSEUD0CODE"
   ]
  },
  {
   "cell_type": "code",
   "execution_count": 2,
   "metadata": {},
   "outputs": [],
   "source": [
    "class pitchFilter:\n",
    "    \n",
    "    def __init__(MaxGlideRate, SampleRate, FrameSize):\n",
    "        \n",
    "        self.maxGlideRate = MaxGliderate #glide per second in hz\n",
    "        self.sampleRate = SampleRate\n",
    "        self.frameSize = FrameSize\n",
    "        \n",
    "        #it might be desired to have an exponential glide rate to match \n",
    "        #the octaves rather than staihgt hz\n",
    "        pass\n",
    "    \n",
    "    def get_freq(actualFreq, desiredFreq):\n",
    "        \n",
    "        #adaptive = samples_per_frame / distance to travel\n",
    "        adaptive_glide_rate = (desiredFreq - actualFreq) / (self.sampleRate / self.frameSize) \n",
    "        \n",
    "        per_call_glide_rate = \n",
    "        \n",
    "        return (actualFreq + per_call_glide_rate) if actualFreq > desiredFreq else (actualFreq - per_call_glide_rate)\n",
    "    "
   ]
  },
  {
   "cell_type": "code",
   "execution_count": null,
   "metadata": {},
   "outputs": [],
   "source": []
  }
 ],
 "metadata": {
  "kernelspec": {
   "display_name": "Python 3",
   "language": "python",
   "name": "python3"
  },
  "language_info": {
   "codemirror_mode": {
    "name": "ipython",
    "version": 3
   },
   "file_extension": ".py",
   "mimetype": "text/x-python",
   "name": "python",
   "nbconvert_exporter": "python",
   "pygments_lexer": "ipython3",
   "version": "3.7.3"
  }
 },
 "nbformat": 4,
 "nbformat_minor": 2
}
