{
 "cells": [
  {
   "cell_type": "code",
   "execution_count": 1,
   "metadata": {},
   "outputs": [
    {
     "name": "stderr",
     "output_type": "stream",
     "text": [
      "\u001b[1minput_line_7:2:14: \u001b[0m\u001b[0;1;31merror: \u001b[0m\u001b[1mexpected unqualified-id\u001b[0m\n",
      "extern \"C\" { #include <liquid/liquid.h> }\n",
      "\u001b[0;1;32m             ^\n",
      "\u001b[0m"
     ]
    },
    {
     "ename": "Interpreter Error",
     "evalue": "",
     "output_type": "error",
     "traceback": [
      "Interpreter Error: "
     ]
    }
   ],
   "source": [
    "#ifdef __cplusplus\n",
    "extern \"C\" { #include <liquid/liquid.h> }\n",
    "#endif \n"
   ]
  },
  {
   "cell_type": "code",
   "execution_count": null,
   "metadata": {},
   "outputs": [],
   "source": [
    "    // initialize array for writing\n",
    "    float v[] = {9, 8, 7, 6, 5, 4, 3, 2, 1, 0};\n",
    "\n",
    "    // create window with 10 elements\n",
    "    windowf w = windowf_create(10);\n",
    "    // window[10] : {0 0 0 0 0 0 0 0 0 0}\n",
    "\n",
    "    // push 4 elements into the window\n",
    "    windowf_push(w, 1);\n",
    "    windowf_push(w, 3);\n",
    "    windowf_push(w, 6);\n",
    "    windowf_push(w, 2);\n",
    "    // window[10] : {0 0 0 0 0 0 1 3 6 2}\n",
    "\n",
    "    // push 4 elements at a time\n",
    "    windowf_write(w, v, 4);\n",
    "    // window[10] : {0 0 1 3 6 2 9 8 7 6}\n",
    "\n",
    "    // recreate window (truncate to last 6 elements)\n",
    "    w = windowf_recreate(w,6);\n",
    "    // window[6] : {6 2 9 8 7 6}\n",
    "\n",
    "    // recreate window (extend to 12 elements)\n",
    "    w = windowf_recreate(w,12);\n",
    "    // window[12] : {0 0 0 0 0 0 6 2 9 8 7 6}\n",
    "\n",
    "    // read buffer (return pointer to aligned memory)\n",
    "    float * r;\n",
    "    windowf_read(w, &r);\n",
    "    // r[12] : {0 0 0 0 0 0 6 2 9 8 7 6}\n",
    "\n",
    "    // clean up allocated object\n",
    "    windowf_destroy(w);"
   ]
  },
  {
   "cell_type": "code",
   "execution_count": null,
   "metadata": {},
   "outputs": [],
   "source": []
  }
 ],
 "metadata": {
  "kernelspec": {
   "display_name": "C++17",
   "language": "C++17",
   "name": "xcpp17"
  },
  "language_info": {
   "codemirror_mode": "text/x-c++src",
   "file_extension": ".cpp",
   "mimetype": "text/x-c++src",
   "name": "c++",
   "version": "-std=c++17"
  }
 },
 "nbformat": 4,
 "nbformat_minor": 2
}
