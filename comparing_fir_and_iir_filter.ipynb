{
 "cells": [
  {
   "cell_type": "markdown",
   "metadata": {},
   "source": [
    "## I have made an FIR and IIR filter\n",
    "\n",
    "### I compare them here"
   ]
  },
  {
   "cell_type": "code",
   "execution_count": 1,
   "metadata": {},
   "outputs": [],
   "source": [
    "import matplotlib.pyplot as plt\n",
    "%matplotlib inline\n",
    "import numpy as np\n",
    "import soundfile as sf\n",
    "from IPython.display import Audio, display"
   ]
  },
  {
   "cell_type": "code",
   "execution_count": 60,
   "metadata": {},
   "outputs": [],
   "source": [
    "class iir_filt:\n",
    "        \n",
    "    \n",
    "    def __init__(self, cutoff, slope, M, samplerate, passes=1, style='bandpass'):\n",
    "        self.cutoff = cutoff\n",
    "        self.slope = slope\n",
    "        \n",
    "        self.M = M\n",
    "        #keep it odd\n",
    "        if self.M % 2 == 0:\n",
    "            self.M += 1\n",
    "            \n",
    "        self.samplerate = samplerate\n",
    "        self.passes = passes\n",
    "        self.style = style\n",
    "        \n",
    "        self.window = self.make_window()\n",
    "        \n",
    "        self.i_r = np.fft.ifft(self.window)\n",
    "        \n",
    "        #take values from self.ir\n",
    "        self.B = np.real(np.append(self.i_r[len(self.i_r)-(self.M//2):], self.i_r[:self.M//2+1]))\n",
    "\n",
    "        #self.B = np.real(self.i_r[:self.M])\n",
    "        \n",
    "        return\n",
    "    \n",
    "    def process(self, signal):\n",
    "        \n",
    "        #suptract window from allpass if necessary\n",
    "        if self.style == 'highpass' or self.style == 'bandstop':\n",
    "            allpass = np.append(np.full(self.M//2, 0), .5)\n",
    "            allpass = np.append(allpass, np.full(self.M//2, 0))\n",
    "            self.B = allpass - self.B\n",
    "        \n",
    "        \n",
    "        \n",
    "        output = np.full(len(signal), 0.0)\n",
    "\n",
    "        Q = 4\n",
    "        a = self.B\n",
    "        self.b = [1, 1, 1, 1] #np.real(normalize(self.i_r)[:Q])  #1.5 - np.arange(0.5, 1, .5/Q)\n",
    "        plt.plot(a)\n",
    "        plt.show()\n",
    "        #self.B = normalize(self.B)\n",
    "        print(a)\n",
    "       \n",
    "        #now to re-write more consicly\n",
    "        \n",
    "        for N in range(self.M, len(signal)):\n",
    "            \n",
    "            output[N] = self.B[0] * signal[N]\n",
    "            for K in range(1, self.M):\n",
    "                \n",
    "                feedback = (a[K] * output[N-K] if K < Q else 0)\n",
    "                #if K < Q:\n",
    "                    #print('values a[K] {}, output[N-K] {} feedback {}'.format(a[K], output[N-K], feedback))\n",
    "                \n",
    "                output[N] += (self.B[K] * signal[N - K]) - feedback\n",
    "                \n",
    "            #this makes the whole thing shrink and shrink and shrink\n",
    "            #print('output{}, a[0] {}'.format(output[N], a[0]))\n",
    "            output[N] /= a[0]\n",
    "            \n",
    "            #print(1/a[0])\n",
    "        #output /= a[0]\n",
    "            \n",
    "        return output\n",
    "    \n",
    "    def make_window(self):\n",
    "        '''\n",
    "        converts the given values into a window based on hanning\n",
    "        \n",
    "        current bandp and band s ar uninterupted curves\n",
    "        \n",
    "        also lp and hp are all curves\n",
    "        \n",
    "        need another arg?\n",
    "        '''\n",
    "        if self.style == 'bandpass':\n",
    "            window = np.append(np.full(self.cutoff - (self.slope), 0), np.hanning(self.slope*2))\n",
    "            window = np.append(window, np.full(self.samplerate-(self.cutoff - (self.slope)), 0))           \n",
    "            \n",
    "        elif self.style == 'bandstop':\n",
    "            window = np.append(np.full(self.cutoff - (self.slope), 0), np.hanning(self.slope*2))\n",
    "            window = np.append(window, np.full(self.samplerate-(self.cutoff - (self.slope)), 0))  \n",
    "                               \n",
    "        elif self.style == 'lowpass':\n",
    "            window = np.append(np.full(self.cutoff, 1), np.hanning(self.slope*2)[self.slope:])\n",
    "            window = np.append(window, np.full(self.samplerate - self.cutoff - self.slope, 0))\n",
    "            \n",
    "        elif self.style == 'highpass':\n",
    "            window = np.append(np.full(self.cutoff, 1), np.hanning(self.slope*2)[self.slope:])\n",
    "            window = np.append(window, np.full(self.samplerate - self.cutoff - self.slope, 0))\n",
    "\n",
    "        return window\n",
    "        \n",
    "    def print_window(self):\n",
    "        \"\"\"\n",
    "        prints the window, its impules responce and its freq resonce\n",
    "        \"\"\"\n",
    "        plt.figure(figsize=(6,2))\n",
    "        plt.subplot(121)\n",
    "        plt.plot(self.window[:self.samplerate])\n",
    "        plt.title('Ideal responce of the filter')\n",
    "        plt.xlabel('Frequency')\n",
    "        plt.ylabel('Gain')\n",
    "        #plt.show()\n",
    "        \n",
    "        plt.subplot(122)\n",
    "        #i_r = np.fft.ifft(self.window)\n",
    "        plt.plot(self.B)\n",
    "        plt.show()\n",
    "        \n",
    "        return"
   ]
  },
  {
   "cell_type": "code",
   "execution_count": 61,
   "metadata": {},
   "outputs": [],
   "source": [
    "class fir_filt:\n",
    "    \n",
    "    def __init__(self, cutoff, slope, M, samplerate, passes=1, style='bandpass'):\n",
    "        self.cutoff = cutoff\n",
    "        self.slope = slope\n",
    "        \n",
    "        self.M = M\n",
    "        #keep it odd\n",
    "        if self.M % 2 == 0:\n",
    "            self.M += 1\n",
    "            \n",
    "        self.samplerate = samplerate\n",
    "        self.passes = passes\n",
    "        self.style = style\n",
    "        \n",
    "        self.window = self.make_window()\n",
    "        \n",
    "        self.i_r = np.fft.ifft(self.window)\n",
    "        \n",
    "        #take values from self.ir\n",
    "        self.B = np.real(np.append(self.i_r[len(self.i_r)-(self.M//2):], self.i_r[:self.M//2+1]))\n",
    "\n",
    "        \n",
    "        return\n",
    "    \n",
    "    def process(self, signal):\n",
    "        \n",
    "        if self.style == 'highpass' or self.style == 'bandstop':\n",
    "            allpass = np.append(np.full(self.M//2, 0), .5)\n",
    "            allpass = np.append(allpass, np.full(self.M//2, 0))\n",
    "            self.B = allpass - self.B\n",
    "            \n",
    "        output = np.full(len(signal), 0.0)\n",
    "        \n",
    "        for N in range(self.M, len(signal)):\n",
    "            for K in range(self.M):\n",
    "                output[N] += self.B[K] * signal[N - K]\n",
    "\n",
    "        return output\n",
    "    \n",
    "    \n",
    "\n",
    "    \n",
    "    def make_window(self):\n",
    "        '''\n",
    "        converts the given values into a window based on hanning\n",
    "        \n",
    "        current bandp and band s ar uninterupted curves\n",
    "        \n",
    "        also lp and hp are all curves\n",
    "        \n",
    "        need another arg?\n",
    "        '''\n",
    "        if self.style == 'bandpass':\n",
    "            window = np.append(np.full(self.cutoff - (self.slope), 0), np.hanning(self.slope*2))\n",
    "            window = np.append(window, np.full(self.samplerate-(self.cutoff - (self.slope)), 0))           \n",
    "            \n",
    "        elif self.style == 'bandstop':\n",
    "            window = np.append(np.full(self.cutoff - (self.slope), 0), np.hanning(self.slope*2))\n",
    "            window = np.append(window, np.full(self.samplerate-(self.cutoff - (self.slope)), 0))  \n",
    "                               \n",
    "        elif self.style == 'lowpass':\n",
    "            window = np.append(np.full(self.cutoff, 1), np.hanning(self.slope*2)[self.slope:])\n",
    "            window = np.append(window, np.full(self.samplerate - self.cutoff - self.slope, 0))\n",
    "            \n",
    "        elif self.style == 'highpass':\n",
    "            window = np.append(np.full(self.cutoff, 1), np.hanning(self.slope*2)[self.slope:])\n",
    "            window = np.append(window, np.full(self.samplerate - self.cutoff - self.slope, 0))\n",
    "        \n",
    "        return window\n",
    "        \n",
    "    def print_window(self):\n",
    "        \"\"\"\n",
    "        prints the window, its impules responce and its freq resonce\n",
    "        \"\"\"\n",
    "        plt.figure(figsize=(6,2))\n",
    "        plt.subplot(121)\n",
    "        plt.plot(self.window[:self.samplerate])\n",
    "        plt.title('Ideal responce of the filter')\n",
    "        plt.xlabel('Frequency')\n",
    "        plt.ylabel('Gain')\n",
    "        #plt.show()\n",
    "        \n",
    "        plt.subplot(122)\n",
    "        #i_r = np.fft.ifft(self.window)\n",
    "        plt.plot(self.B)\n",
    "        plt.show()\n",
    "        \n",
    "        return\n",
    "    \n",
    "        \n",
    "    def set_cuttoff(self, val):\n",
    "        self.cutoff = val\n",
    "    \n",
    "    def set_M(self, val):\n",
    "        self.M = val\n",
    "        \n",
    "    def set_slope(self, val):\n",
    "        self.slope = val\n",
    "        \n",
    "    def set_passes(self, val):\n",
    "        self.passes = val\n",
    "    \n",
    "  "
   ]
  },
  {
   "cell_type": "code",
   "execution_count": 62,
   "metadata": {},
   "outputs": [],
   "source": [
    "def plot_fft(signal, signal2, samplerate):\n",
    "    plt.figure(figsize=(6,2))\n",
    "    \n",
    "    # Plot frequency response (in dB).\n",
    "    signal = np.abs(np.fft.fft(signal))[:len(signal)//2]\n",
    "    plt.plot(np.linspace(0, samplerate//2, len(signal)),  signal)\n",
    "\n",
    "    signal2 = np.abs(np.fft.fft(signal2))[:len(signal2)//2]\n",
    "    plt.plot(np.linspace(0, samplerate//2, len(signal)),  0-signal2)\n",
    "    \n",
    "    plt.xlabel('Normalized frequency')\n",
    "    plt.ylabel('Gain [dB]')\n",
    "    #plt.ylim([-100, 10])\n",
    "    plt.grid()\n",
    "    plt.show()\n",
    "\n"
   ]
  },
  {
   "cell_type": "code",
   "execution_count": 63,
   "metadata": {},
   "outputs": [],
   "source": [
    "def normalize(signal):\n",
    "\n",
    "    highest = 0\n",
    "    for i in range(len(signal)):\n",
    "        if np.abs(signal[i]) > highest:\n",
    "            highest = np.abs(signal[i])\n",
    "    \n",
    "    return signal / highest\n",
    "    \n",
    "    \n"
   ]
  },
  {
   "cell_type": "code",
   "execution_count": 64,
   "metadata": {},
   "outputs": [
    {
     "name": "stdout",
     "output_type": "stream",
     "text": [
      "LOWPASS: cutoff=100, slope=1000,\n"
     ]
    },
    {
     "data": {
      "image/png": "[encoded data removed]",
      "text/plain": [
       "<Figure size 432x144 with 2 Axes>"
      ]
     },
     "metadata": {
      "needs_background": "light"
     },
     "output_type": "display_data"
    },
    {
     "data": {
      "image/png": "[encoded data removed]",
      "text/plain": [
       "<Figure size 432x144 with 1 Axes>"
      ]
     },
     "metadata": {
      "needs_background": "light"
     },
     "output_type": "display_data"
    }
   ],
   "source": [
    "# here i make a white noise to measure real responce against\n",
    "w_noise, samplerate = sf.read('noise.wav')\n",
    "\n",
    "w_noise = normalize(w_noise)\n",
    "\n",
    "print('LOWPASS: cutoff=100, slope=1000,')\n",
    "fir_filter = fir_filt(cutoff=5000, slope=1500, M=20, passes = 2, samplerate=samplerate, style='lowpass')\n",
    "fir_filter.print_window()\n",
    "\n",
    "signal = normalize(fir_filter.process(w_noise))\n",
    "plot_fft(w_noise, signal, samplerate)\n",
    "\n",
    "\n"
   ]
  },
  {
   "cell_type": "code",
   "execution_count": 65,
   "metadata": {},
   "outputs": [
    {
     "data": {
      "image/png": "[encoded data removed]",
      "text/plain": [
       "<Figure size 432x144 with 2 Axes>"
      ]
     },
     "metadata": {
      "needs_background": "light"
     },
     "output_type": "display_data"
    },
    {
     "data": {
      "image/png": "[encoded data removed]",
      "text/plain": [
       "<Figure size 432x288 with 1 Axes>"
      ]
     },
     "metadata": {
      "needs_background": "light"
     },
     "output_type": "display_data"
    },
    {
     "name": "stdout",
     "output_type": "stream",
     "text": [
      "[ 0.01374687  0.00773416 -0.00485857 -0.01845617 -0.02515853 -0.01809866\n",
      "  0.00514375  0.04069402  0.07912711  0.1086969   0.11978646  0.1086969\n",
      "  0.07912711  0.04069402  0.00514375 -0.01809866 -0.02515853 -0.01845617\n",
      " -0.00485857  0.00773416  0.01374687]\n"
     ]
    },
    {
     "name": "stderr",
     "output_type": "stream",
     "text": [
      "/home/billy/anaconda3/lib/python3.7/site-packages/ipykernel_launcher.py:63: RuntimeWarning: overflow encountered in double_scalars\n",
      "/home/billy/anaconda3/lib/python3.7/site-packages/ipykernel_launcher.py:59: RuntimeWarning: invalid value encountered in double_scalars\n",
      "/home/billy/anaconda3/lib/python3.7/site-packages/ipykernel_launcher.py:8: RuntimeWarning: invalid value encountered in true_divide\n",
      "  \n"
     ]
    },
    {
     "data": {
      "image/png": "[encoded data removed]",
      "text/plain": [
       "<Figure size 432x144 with 1 Axes>"
      ]
     },
     "metadata": {
      "needs_background": "light"
     },
     "output_type": "display_data"
    }
   ],
   "source": [
    "# here i make a white noise to measure real responce against\n",
    "w_noise, samplerate = sf.read('noise.wav')\n",
    "\n",
    "w_noise = normalize(w_noise)\n",
    "    \n",
    "    \n",
    "iir_filter = iir_filt(cutoff=5000, slope=1500, M=20, passes = 1, samplerate=samplerate, style='lowpass')\n",
    "iir_filter.print_window()\n",
    "\n",
    "iir_signal = normalize(iir_filter.process(w_noise))\n",
    "plot_fft(w_noise, iir_signal, samplerate)"
   ]
  },
  {
   "cell_type": "code",
   "execution_count": null,
   "metadata": {},
   "outputs": [],
   "source": []
  },
  {
   "cell_type": "code",
   "execution_count": null,
   "metadata": {},
   "outputs": [],
   "source": []
  },
  {
   "cell_type": "code",
   "execution_count": null,
   "metadata": {
    "scrolled": false
   },
   "outputs": [],
   "source": []
  },
  {
   "cell_type": "code",
   "execution_count": null,
   "metadata": {},
   "outputs": [],
   "source": []
  },
  {
   "cell_type": "code",
   "execution_count": null,
   "metadata": {},
   "outputs": [],
   "source": []
  },
  {
   "cell_type": "code",
   "execution_count": null,
   "metadata": {},
   "outputs": [],
   "source": []
  },
  {
   "cell_type": "code",
   "execution_count": null,
   "metadata": {},
   "outputs": [],
   "source": []
  }
 ],
 "metadata": {
  "kernelspec": {
   "display_name": "Python 3",
   "language": "python",
   "name": "python3"
  },
  "language_info": {
   "codemirror_mode": {
    "name": "ipython",
    "version": 3
   },
   "file_extension": ".py",
   "mimetype": "text/x-python",
   "name": "python",
   "nbconvert_exporter": "python",
   "pygments_lexer": "ipython3",
   "version": "3.7.3"
  }
 },
 "nbformat": 4,
 "nbformat_minor": 2
}
