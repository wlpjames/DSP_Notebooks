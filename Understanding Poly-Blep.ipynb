{
 "cells": [
  {
   "cell_type": "markdown",
   "metadata": {},
   "source": [
    "# Understanding Poly-blep"
   ]
  },
  {
   "cell_type": "code",
   "execution_count": 1368,
   "metadata": {},
   "outputs": [],
   "source": [
    "import numpy as np\n",
    "import matplotlib.pyplot as plt"
   ]
  },
  {
   "cell_type": "markdown",
   "metadata": {},
   "source": [
    "Here I will experement with an implementation of Poly-Blep found online at: https://www.kvraudio.com/forum/viewtopic.php?t=375517\n",
    "\n",
    "\n",
    "# This noteBook is neither readable or useful\n",
    "\n",
    "# I will write up a polyBlep class in a following notebook"
   ]
  },
  {
   "cell_type": "raw",
   "metadata": {},
   "source": [
    "double t = 0.; // 0 <= t < 1\n",
    "double dt = freq / sample_rate; \n",
    "\n",
    "...\n",
    "\n",
    "double poly_blep(double t, double dt)\n",
    "{\n",
    "  // 0 <= t < 1\n",
    "  if (t < dt)\n",
    "  {\n",
    "    t /= dt;\n",
    "    // 2 * (t - t^2/2 - 0.5)\n",
    "    return t+t - t*t - 1.; //2t - t**2 - 1\n",
    "  }\n",
    "\n",
    "  // -1 < t < 0\n",
    "  else if (t > 1. - dt)\n",
    "  {\n",
    "    t = (t - 1.) / dt;\n",
    "    // 2 * (t^2/2 + t + 0.5)\n",
    "    return t*t + t+t + 1.;\n",
    "  }\n",
    "\n",
    "  // 0 otherwise\n",
    "  else\n",
    "  {\n",
    "    return 0.;\n",
    "  }\n",
    "}\n",
    "\n",
    "double poly_saw(double t, double dt)\n",
    "{\n",
    "  // Correct phase, so it would be in line with sin(2.*M_PI * t)\n",
    "  t += 0.5;\n",
    "  \n",
    "  if (t >= 1.) t -= 1.; //so that t loops from 0 to 1 in steps of 0.5 or maybe not?!?!?!?!\n",
    "\n",
    "  double naive_saw = 2.*t - 1.;\n",
    "  return naive_saw - poly_blep(t, dt);\n",
    "}\n",
    "\n",
    "...\n",
    "\n",
    "for (int i = 0; i < nFrames; ++i)\n",
    "{\n",
    "  output[i] = poly_saw(t, dt);\n",
    "  t += dt;\n",
    "}"
   ]
  },
  {
   "cell_type": "markdown",
   "metadata": {},
   "source": [
    "### We shal hope that through re-implementing this function in python i might Understand better what it is doing"
   ]
  },
  {
   "cell_type": "code",
   "execution_count": 1369,
   "metadata": {},
   "outputs": [],
   "source": [
    "freq = 440\n",
    "sample_rate = 48000"
   ]
  },
  {
   "cell_type": "code",
   "execution_count": 1370,
   "metadata": {},
   "outputs": [],
   "source": [
    "\n",
    "t = 0\n",
    "\n",
    "dt = freq / sample_rate #value between 0 and 1 \n",
    "\n",
    "\n",
    "def poly_blep(t, dt):\n",
    "    # 0 <= t < 1\n",
    "    if t < dt:\n",
    "        t /= dt\n",
    "        # 2 * (t - t^2/2 - 0.5)\n",
    "        return t+t - t*t - 1.\n",
    "\n",
    "    # -1 < t < 0\n",
    "    elif t > 1. - dt: \n",
    "        t = (t - 1.) / dt\n",
    "        # 2 * (t^2/2 + t + 0.5)\n",
    "        return t*t + t+t + 1\n",
    "\n",
    "    # 0 otherwise\n",
    "    else:\n",
    "        return 0."
   ]
  },
  {
   "cell_type": "markdown",
   "metadata": {},
   "source": [
    "### USAGE:"
   ]
  },
  {
   "cell_type": "code",
   "execution_count": 1371,
   "metadata": {},
   "outputs": [
    {
     "data": {
      "text/plain": [
       "-1.0"
      ]
     },
     "execution_count": 1371,
     "metadata": {},
     "output_type": "execute_result"
    }
   ],
   "source": [
    "poly_blep(t, dt)"
   ]
  },
  {
   "cell_type": "code",
   "execution_count": 1372,
   "metadata": {},
   "outputs": [
    {
     "name": "stdout",
     "output_type": "stream",
     "text": [
      "-0.9997818300826447\n",
      "0.0\n",
      "0.9997818300826383\n"
     ]
    }
   ],
   "source": [
    "print(poly_blep(.000001, dt))\n",
    "print(poly_blep(.5, dt))\n",
    "print(poly_blep(1- .000001, dt))"
   ]
  },
  {
   "cell_type": "markdown",
   "metadata": {},
   "source": [
    "seems to do some kind of smoothing at the edges\n",
    "\n",
    "wait wait wait it seems to\n",
    "\n",
    "+a little at the beggining of a wave and minus a little at the end!"
   ]
  },
  {
   "cell_type": "code",
   "execution_count": 1373,
   "metadata": {},
   "outputs": [],
   "source": [
    "def poly_saw(t, dt):\n",
    "    \n",
    "    mPhase += mPhaseIncrement;\n",
    "    # Correct phase, so it would be in line with sin(2.*M_PI * t)\n",
    "    t += 0.5\n",
    "  \n",
    "    if t >= 1.:\n",
    "        t -= 1.\n",
    "\n",
    "    naive_saw = 2.*t - 1 #im honestly not sure how this is supposed to create a square\n",
    "    return t - poly_blep(t, dt)\n",
    "    #naive_saw - poly_blep(t, dt);\n"
   ]
  },
  {
   "cell_type": "code",
   "execution_count": 1374,
   "metadata": {},
   "outputs": [
    {
     "data": {
      "text/plain": [
       "'\\nnFrames = 200\\noutput = np.empty(nFrames)\\nfor  i in range(nFrames):\\n    output[i] = poly_saw(t, dt)\\n    t += dt\\n'"
      ]
     },
     "execution_count": 1374,
     "metadata": {},
     "output_type": "execute_result"
    }
   ],
   "source": [
    "\"\"\"\n",
    "nFrames = 200\n",
    "output = np.empty(nFrames)\n",
    "for  i in range(nFrames):\n",
    "    output[i] = poly_saw(t, dt)\n",
    "    t += dt\n",
    "\"\"\""
   ]
  },
  {
   "cell_type": "code",
   "execution_count": 1375,
   "metadata": {},
   "outputs": [
    {
     "data": {
      "image/png": "[encoded data removed]",
      "text/plain": [
       "<Figure size 432x288 with 1 Axes>"
      ]
     },
     "metadata": {},
     "output_type": "display_data"
    }
   ],
   "source": [
    "plt.plot(output)\n",
    "plt.show()"
   ]
  },
  {
   "cell_type": "markdown",
   "metadata": {},
   "source": [
    "### If t is the value of the saw?? then maybe it will make sence\n",
    "but this would not make sence as t+=dt in each sample\n",
    "\n",
    "its hard to even know if this is faulty as i dont have any idea what it does\n",
    "\n",
    "presumably \"naive_saw\" is the value of the saw.\n",
    "it is though rather unclear here how it might be derived\n",
    "\n",
    "I'll write a new poli-saw function that will use a naive saw"
   ]
  },
  {
   "cell_type": "code",
   "execution_count": 1376,
   "metadata": {},
   "outputs": [],
   "source": [
    "import cmath\n",
    "\n",
    "class waveGen:\n",
    "\t\n",
    "\tdef __init__(self, freq, BufferSize, waveType, vol):\n",
    "\t\t\n",
    "\t\tself.sampleRate = 48000\n",
    "\t\tself.bufferSize = BufferSize\n",
    "\t\tself.buffer = np.empty(BufferSize, dtype=np.complex)\n",
    "\t\tself.frequency = freq\n",
    "\t\tself.omega = 0\n",
    "\t\tself.updateOmega()\n",
    "\t\tself.last = complex(1,0)\n",
    "\t\tself.type = waveType\n",
    "\t\tself.volume = vol\n",
    "\n",
    "\tdef sineGen(self):\n",
    "\n",
    "\t\t#start = timer() #reduce function!!! functools\n",
    "\t\tfor i in range(0, self.bufferSize):\n",
    "\t\t\tself.buffer[i] = self.last\n",
    "\t\t\tself.last=self.last*self.omega\n",
    "\n",
    "\t\treturn self.volume * np.imag(self.buffer).astype(np.float32)\n",
    "\n",
    "\tdef squareGen(self):\n",
    "\t\t#start = timer()\n",
    "\t\tfor i in range(0, self.bufferSize):\n",
    "\t\t\tself.buffer[i] = self.last\n",
    "\t\t\tself.last=self.last*self.omega\n",
    "\n",
    "\t\treturn np.sign(self.volume * np.imag(self.buffer).astype(np.float32))\n",
    "\n",
    "\tdef updateOmega(self):\n",
    "\t\tself.omega = cmath.exp(1j*(2*cmath.pi * self.frequency / self.sampleRate))\n",
    "\n",
    "\tdef updateFreq(self, val):\n",
    "\t\tself.frequency = val\n",
    "\t\tself.updateOmega()\n",
    "\n",
    "\tdef nextFrame(self):\n",
    "\t\tif self.type == \"sine\":\n",
    "\t\t\treturn self.sineGen()\n",
    "\t\telif self.type == \"square\":\n",
    "\t\t\treturn self.squareGen()\n"
   ]
  },
  {
   "cell_type": "code",
   "execution_count": 1377,
   "metadata": {},
   "outputs": [
    {
     "data": {
      "image/png": "[encoded data removed]",
      "text/plain": [
       "<Figure size 432x288 with 1 Axes>"
      ]
     },
     "metadata": {},
     "output_type": "display_data"
    }
   ],
   "source": [
    "wave = waveGen(freq, nFrames, 'square', 1)\n",
    "square = wave.nextFrame()\n",
    "plt.plot(square)\n",
    "plt.show()"
   ]
  },
  {
   "cell_type": "code",
   "execution_count": 1411,
   "metadata": {},
   "outputs": [],
   "source": [
    "class polyBlep:\n",
    "\n",
    "    def __init__(self):\n",
    "        self.twoPI = np.pi * 3 # times 3 seems go give the best result around to \n",
    "        self.freq = 440 # freq above 990 seems to cause indexing type error\n",
    "        self.sample_rate = 48000\n",
    "        self.frameLen = 48000\n",
    "        self.wave = waveGen(self.freq, self.frameLen, 'square', 1)\n",
    "        self.mPhaseIncrement = self.freq * self.twoPI / self.sample_rate;\n",
    "        self.mPhase = 0\n",
    "        self.FP_Correction = 0.99999999999999999\n",
    "        \n",
    "    def nextFrame(self):\n",
    "        output = self.wave.nextFrame()\n",
    "        for i in range(self.frameLen):\n",
    "            output[i] = self.nextSample(output[i])\n",
    "        \n",
    "        return output\n",
    "        \n",
    "    def nextSample(self, sample):\n",
    "        \n",
    "        t = self.mPhase / self.twoPI\n",
    "        sample += self.poly_blep(t);\n",
    "        sample -= self.poly_blep((t + 0.5) % 1); \n",
    "        \n",
    "        self.mPhase += self.mPhaseIncrement * self.FP_Correction\n",
    "        \n",
    "        #if (self.mPhase % self.mPhaseIncrement != 0): # need somthing good to correct fp inpresicion\n",
    "            #print(\"floating point error\")\n",
    "            \n",
    "        while self.mPhase > self.twoPI:\n",
    "            self.mPhase -= self.twoPI\n",
    "        \n",
    "        return sample\n",
    "    \n",
    "    def poly_blep(self, t):\n",
    "        dt = self.mPhaseIncrement / (np.pi * 2)\n",
    "        # 0 <= t < 1\n",
    "        if t < dt: \n",
    "            t /= dt;\n",
    "            return t+t - t*t - 1.0;\n",
    "    \n",
    "        # -1 < t < 0\n",
    "        elif t > 1.0 - dt: \n",
    "            t = (t - 1.0) / dt\n",
    "            return t*t + t+t + 1.0\n",
    "        \n",
    "        # 0 otherwise\n",
    "        else:\n",
    "            return 0.0;\n",
    "        "
   ]
  },
  {
   "cell_type": "code",
   "execution_count": 1416,
   "metadata": {},
   "outputs": [
    {
     "data": {
      "image/png": "[encoded data removed]",
      "text/plain": [
       "<Figure size 432x288 with 1 Axes>"
      ]
     },
     "metadata": {},
     "output_type": "display_data"
    }
   ],
   "source": [
    "p_b = polyBlep()\n",
    "\n",
    "square_pb = p_b.nextFrame()\n",
    "plt.plot(square_pb[0:700])\n",
    "plt.show()\n"
   ]
  },
  {
   "cell_type": "code",
   "execution_count": 1413,
   "metadata": {},
   "outputs": [],
   "source": [
    "#this also seems promising - It looks too softent on one side adn not at all on the other"
   ]
  },
  {
   "cell_type": "code",
   "execution_count": 1414,
   "metadata": {},
   "outputs": [
    {
     "data": {
      "image/png": "[encoded data removed]",
      "text/plain": [
       "<Figure size 432x288 with 1 Axes>"
      ]
     },
     "metadata": {},
     "output_type": "display_data"
    }
   ],
   "source": [
    "t_dom = np.fft.fft(square_pb)\n",
    "#linespaceing\n",
    "T = 1.0 / 48000.0\n",
    "\n",
    "#x angle of plot\n",
    "xf = np.linspace(0.0, 1.0/(2.0*T), sample_rate//2)\n",
    "\n",
    "#ploting the graph\n",
    "plt.plot(xf, 2.0/sample_rate * np.abs(t_dom[:sample_rate//2]))\n",
    "plt.show()\n"
   ]
  },
  {
   "cell_type": "code",
   "execution_count": 1384,
   "metadata": {},
   "outputs": [
    {
     "data": {
      "image/png": "[encoded data removed]",
      "text/plain": [
       "<Figure size 432x288 with 1 Axes>"
      ]
     },
     "metadata": {},
     "output_type": "display_data"
    },
    {
     "data": {
      "image/png": "[encoded data removed]",
      "text/plain": [
       "<Figure size 432x288 with 1 Axes>"
      ]
     },
     "metadata": {},
     "output_type": "display_data"
    }
   ],
   "source": [
    "#lets compare with a naive sine\n",
    "wave = waveGen(390, sample_rate, 'square', 1)\n",
    "n_s = wave.nextFrame()\n",
    "plt.plot(n_s[:100])\n",
    "plt.show()\n",
    "n_square = np.fft.fft(n_s)\n",
    "#linespaceing\n",
    "T = 1.0 / 48000.0\n",
    "#x angle of plot\n",
    "xf = np.linspace(0.0, 1.0/(2.0*T), sample_rate//2)\n",
    "\n",
    "#ploting the graph\n",
    "plt.plot(xf, 2.0/sample_rate * np.abs(n_square[:sample_rate//2]))\n",
    "plt.show()"
   ]
  },
  {
   "cell_type": "markdown",
   "metadata": {},
   "source": [
    "### the problem here is to link the smoothing rate to the pitch"
   ]
  },
  {
   "cell_type": "code",
   "execution_count": 1383,
   "metadata": {},
   "outputs": [],
   "source": [
    "# pi divided by 2 seems to give the best result"
   ]
  },
  {
   "cell_type": "code",
   "execution_count": null,
   "metadata": {},
   "outputs": [],
   "source": []
  }
 ],
 "metadata": {
  "kernelspec": {
   "display_name": "Python 3",
   "language": "python",
   "name": "python3"
  },
  "language_info": {
   "codemirror_mode": {
    "name": "ipython",
    "version": 3
   },
   "file_extension": ".py",
   "mimetype": "text/x-python",
   "name": "python",
   "nbconvert_exporter": "python",
   "pygments_lexer": "ipython3",
   "version": "3.6.8"
  }
 },
 "nbformat": 4,
 "nbformat_minor": 2
}
