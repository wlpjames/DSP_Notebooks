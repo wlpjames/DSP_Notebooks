{
 "cells": [
  {
   "cell_type": "markdown",
   "metadata": {},
   "source": [
    "This is a first attempt at a notebook using c++\n",
    "\n",
    "I will implement my FIR filter and maybe inlude some tests"
   ]
  },
  {
   "cell_type": "code",
   "execution_count": 1,
   "metadata": {},
   "outputs": [],
   "source": [
    "#include <stdio.h>\n",
    "#include <stdlib.h>\n",
    "#include <math.h> \n",
    "#include <cstdlib> \n",
    "#include <ctime> \n",
    "#include <iostream>\n",
    "\n",
    "#define PI 3.14159265\n",
    "\n",
    "class FIR_filter \n",
    "{\n",
    "    \n",
    "    //properties\n",
    "    int cutoff, slope, M, samplerate;\n",
    "    float* window = NULL;\n",
    "    float* i_r =NULL;\n",
    "    \n",
    "    //methods\n",
    "    FIR_filter(int Cutoff, int Slope, int m, int Samplerate) \n",
    "    {\n",
    "        //curr always lowpass untill make enum\n",
    "        cutoff = Cutoff;\n",
    "        slope = Slope;\n",
    "        \n",
    "        //ensure that M is an odd number\n",
    "        M = m;\n",
    "        if (m % 2 == 0) {\n",
    "            M += 1;\n",
    "        }\n",
    "        \n",
    "        samplerate = Samplerate; \n",
    "        \n",
    "        //zero pad a window\n",
    "        window = make_window();\n",
    "            \n",
    "        //calculate the impulse responce\n",
    "        \n",
    "            \n",
    "        //take values from i_r to make Beta coefficiants\n",
    "            \n",
    "        \n",
    "        return;\n",
    "    }\n",
    "    \n",
    "    //destuction\n",
    "    ~FIR_filter()\n",
    "    {\n",
    "        if (window) {\n",
    "            free(window);\n",
    "        }\n",
    "        if (i_r) {\n",
    "            free(i_r);\n",
    "        }\n",
    "        return;\n",
    "    }\n",
    "    \n",
    "    //called of each buffer\n",
    "    float* process(float* signal)\n",
    "    {\n",
    "        return 0;\n",
    "    }\n",
    "    \n",
    "    //makes a window from padding ons and zeros to a hanning window\n",
    "    float* make_window()\n",
    "    {\n",
    "        //lowpass\n",
    "        \n",
    "        \n",
    "        return 0;\n",
    "    }\n",
    "    \n",
    "    //calculates the hanning function\n",
    "    float* hann(int N) \n",
    "    {\n",
    "        //aloc space \n",
    "        float* window = (float*) malloc(N * sizeof(float));\n",
    "        \n",
    "        for (int i = 0; i < N; i++) {\n",
    "            window[i] = 0.5 * (1 - cos(PI * 2 * (i / N)));\n",
    "        }\n",
    "        \n",
    "        return window;\n",
    "    }   \n",
    "}"
   ]
  },
  {
   "cell_type": "markdown",
   "metadata": {},
   "source": [
    "# now some tests"
   ]
  },
  {
   "cell_type": "code",
   "execution_count": 2,
   "metadata": {},
   "outputs": [],
   "source": [
    "// a fully noisey wave\n",
    "srand((unsigned)time(0));\n",
    "int samplerate = 48000;\n",
    "\n",
    "float* noise = (float*) malloc(samplerate*sizeof(float));\n",
    "    \n",
    "for (int i = 0; i < samplerate; i++) {\n",
    "    noise[i] = 1 + (rand()/RAND_MAX) * 2;\n",
    "}"
   ]
  },
  {
   "cell_type": "code",
   "execution_count": null,
   "metadata": {},
   "outputs": [],
   "source": [
    "//now how to plot???"
   ]
  },
  {
   "cell_type": "code",
   "execution_count": 3,
   "metadata": {},
   "outputs": [],
   "source": [
    "//free stuff\n",
    "free(noise)\n"
   ]
  },
  {
   "cell_type": "code",
   "execution_count": null,
   "metadata": {},
   "outputs": [],
   "source": []
  }
 ],
 "metadata": {
  "kernelspec": {
   "display_name": "C++17",
   "language": "C++17",
   "name": "xcpp17"
  },
  "language_info": {
   "codemirror_mode": "text/x-c++src",
   "file_extension": ".cpp",
   "mimetype": "text/x-c++src",
   "name": "c++",
   "version": "-std=c++17"
  }
 },
 "nbformat": 4,
 "nbformat_minor": 2
}
